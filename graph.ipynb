{
 "cells": [
  {
   "cell_type": "code",
   "execution_count": 3,
   "metadata": {
    "application/vnd.databricks.v1+cell": {
     "cellMetadata": {
      "byteLimit": 2048000,
      "rowLimit": 10000
     },
     "inputWidgets": {},
     "nuid": "2b223897-7696-4991-a0be-ce1bbb0a9c75",
     "showTitle": false,
     "tableResultSettingsMap": {},
     "title": ""
    }
   },
   "outputs": [],
   "source": [
    "from weaviate.util import generate_uuid5\n",
    "from weaviate.classes.init import Auth\n",
    "import weaviate\n",
    "import json\n",
    "import pandas as pd\n",
    "\n",
    "client = weaviate.connect_to_weaviate_cloud(\n",
    "    cluster_url=\"https://xxxxx.weaviate.cloud\",  # Replace with your Weaviate Cloud URL\n",
    "    auth_credentials=Auth.api_key(\"xxxx\")\n",
    ")\n",
    "\n"
   ]
  },
  {
   "cell_type": "code",
   "execution_count": 4,
   "metadata": {
    "application/vnd.databricks.v1+cell": {
     "cellMetadata": {
      "byteLimit": 2048000,
      "rowLimit": 10000
     },
     "inputWidgets": {},
     "nuid": "9208822e-2456-430e-9f51-d6534a83136b",
     "showTitle": false,
     "tableResultSettingsMap": {},
     "title": ""
    }
   },
   "outputs": [],
   "source": [
    "df = pd.read_csv(\"PubMed Multi Label Text Classification Dataset Processed.csv\")"
   ]
  },
  {
   "cell_type": "code",
   "execution_count": 5,
   "metadata": {
    "application/vnd.databricks.v1+cell": {
     "cellMetadata": {
      "byteLimit": 2048000,
      "rowLimit": 10000
     },
     "inputWidgets": {},
     "nuid": "102cfeab-d5a4-49ab-bf62-a841aee35bd9",
     "showTitle": false,
     "tableResultSettingsMap": {},
     "title": ""
    }
   },
   "outputs": [],
   "source": [
    "#Filter the dataset if needed\n",
    "df = df[:1000]"
   ]
  },
  {
   "cell_type": "code",
   "execution_count": 6,
   "metadata": {
    "application/vnd.databricks.v1+cell": {
     "cellMetadata": {
      "byteLimit": 2048000,
      "rowLimit": 10000
     },
     "inputWidgets": {},
     "nuid": "4882efdc-8743-4455-af20-503bd7f72eff",
     "showTitle": false,
     "tableResultSettingsMap": {},
     "title": ""
    }
   },
   "outputs": [],
   "source": [
    "import numpy as np\n",
    "# Replace infinity values with NaN and then fill NaN values\n",
    "df.replace([np.inf, -np.inf], np.nan, inplace=True)\n",
    "df.fillna('', inplace=True)\n",
    "\n",
    "# Convert columns to string type\n",
    "df['Title'] = df['Title'].astype(str)\n",
    "df['abstractText'] = df['abstractText'].astype(str)\n",
    "df['meshMajor'] = df['meshMajor'].astype(str)"
   ]
  },
  {
   "cell_type": "code",
   "execution_count": 7,
   "metadata": {
    "application/vnd.databricks.v1+cell": {
     "cellMetadata": {
      "byteLimit": 2048000,
      "rowLimit": 10000
     },
     "inputWidgets": {},
     "nuid": "73d2d39d-f55e-4413-8986-cb1045b9afae",
     "showTitle": false,
     "tableResultSettingsMap": {},
     "title": ""
    }
   },
   "outputs": [],
   "source": [
    "import urllib.parse\n",
    "from rdflib import Graph, RDF, RDFS, Namespace, URIRef, Literal\n",
    "\n",
    "\n",
    "# Function to create a valid URI\n",
    "def create_valid_uri(base_uri, text):\n",
    "    if pd.isna(text):\n",
    "        return None\n",
    "    # Encode text to be used in URI\n",
    "    sanitized_text = urllib.parse.quote(text.strip().replace(' ', '_').replace('\"', '').replace('<', '').replace('>', '').replace(\"'\", \"_\"))\n",
    "    return URIRef(f\"{base_uri}/{sanitized_text}\")\n",
    "\n",
    "\n",
    "# Function to create a valid URI for Articles\n",
    "import re\n",
    "from urllib.parse import quote\n",
    "def create_article_uri(title, base_namespace=\"http://example.org/article/\"):\n",
    "    if pd.isna(title):\n",
    "        return None\n",
    "    # Replace non-word characters with underscores\n",
    "    sanitized_title = re.sub(r'\\W+', '_', title.strip())\n",
    "    # Condense multiple underscores into a single underscore\n",
    "    sanitized_title = re.sub(r'_+', '_', sanitized_title)\n",
    "    # URL-encode the term\n",
    "    encoded_title = quote(sanitized_title)\n",
    "    # Concatenate with base_namespace without adding underscores\n",
    "    uri = f\"{base_namespace}{encoded_title}\"\n",
    "    return URIRef(uri)\n",
    "\n",
    "# Add a new column to the DataFrame for the article URIs\n",
    "df['Article_URI'] = df['Title'].apply(lambda title: create_valid_uri(\"http://example.org/article\", title))\n"
   ]
  },
  {
   "cell_type": "code",
   "execution_count": 8,
   "metadata": {
    "application/vnd.databricks.v1+cell": {
     "cellMetadata": {
      "byteLimit": 2048000,
      "rowLimit": 10000
     },
     "inputWidgets": {},
     "nuid": "2de5eecf-79ad-4fbd-969a-b6fc936002c3",
     "showTitle": false,
     "tableResultSettingsMap": {},
     "title": ""
    }
   },
   "outputs": [
    {
     "name": "stdout",
     "output_type": "stream",
     "text": [
      "                                    meshTerm  \\\n",
      "0                     'Staining_and_Labeling   \n",
      "1                                Endosseous'   \n",
      "2                                  Afferent'   \n",
      "3                                  Hormonal'   \n",
      "4                              'Arthrodesis'   \n",
      "...                                      ...   \n",
      "5303              'Polydeoxyribonucleotides'   \n",
      "5304                   'Cerebral_Ventricles'   \n",
      "5305  'Sodium-Potassium-Chloride_Symporters'   \n",
      "5306                  'Lung_Transplantation'   \n",
      "5307                 'Myocardial_Infarction'   \n",
      "\n",
      "                                                    URI  \n",
      "0        http://example.org/mesh/_Staining_and_Labeling  \n",
      "1                   http://example.org/mesh/Endosseous_  \n",
      "2                     http://example.org/mesh/Afferent_  \n",
      "3                     http://example.org/mesh/Hormonal_  \n",
      "4                 http://example.org/mesh/_Arthrodesis_  \n",
      "...                                                 ...  \n",
      "5303  http://example.org/mesh/_Polydeoxyribonucleoti...  \n",
      "5304      http://example.org/mesh/_Cerebral_Ventricles_  \n",
      "5305  http://example.org/mesh/_Sodium-Potassium-Chlo...  \n",
      "5306     http://example.org/mesh/_Lung_Transplantation_  \n",
      "5307    http://example.org/mesh/_Myocardial_Infarction_  \n",
      "\n",
      "[5308 rows x 2 columns]\n"
     ]
    }
   ],
   "source": [
    "# Function to clean and parse MeSH terms\n",
    "def parse_mesh_terms(mesh_list):\n",
    "    if pd.isna(mesh_list):\n",
    "        return []\n",
    "    return [\n",
    "        term.strip().replace(' ', '_')\n",
    "        for term in mesh_list.strip(\"[]'\").split(',')\n",
    "    ]\n",
    "\n",
    "# Function to create a valid URI for MeSH terms\n",
    "def create_valid_uri(base_uri, text):\n",
    "    if pd.isna(text):\n",
    "        return None\n",
    "    sanitized_text = urllib.parse.quote(\n",
    "        text.strip()\n",
    "        .replace(' ', '_')\n",
    "        .replace('\"', '')\n",
    "        .replace('<', '')\n",
    "        .replace('>', '')\n",
    "        .replace(\"'\", \"_\")\n",
    "    )\n",
    "    return f\"{base_uri}/{sanitized_text}\"\n",
    "\n",
    "# Extract and process all MeSH terms\n",
    "#mdf = df.head(5000)\n",
    "all_mesh_terms = []\n",
    "for mesh_list in df[\"meshMajor\"]:\n",
    "    all_mesh_terms.extend(parse_mesh_terms(mesh_list))\n",
    "\n",
    "# Deduplicate terms\n",
    "unique_mesh_terms = list(set(all_mesh_terms))\n",
    "\n",
    "# Create a DataFrame of MeSH terms and their URIs\n",
    "mesh_df = pd.DataFrame({\n",
    "    \"meshTerm\": unique_mesh_terms,\n",
    "    \"URI\": [create_valid_uri(\"http://example.org/mesh\", term) for term in unique_mesh_terms]\n",
    "})\n",
    "\n",
    "# Display the DataFrame\n",
    "print(mesh_df)\n"
   ]
  },
  {
   "cell_type": "code",
   "execution_count": 11,
   "metadata": {},
   "outputs": [
    {
     "name": "stdout",
     "output_type": "stream",
     "text": [
      "Number of unique disease-related terms: 336\n",
      "              meshTerm                                         URI\n",
      "24            'Glioma'            http://example.org/mesh/_Glioma_\n",
      "29  'Medical_Oncology'  http://example.org/mesh/_Medical_Oncology_\n",
      "37    Tumor-Associated    http://example.org/mesh/Tumor-Associated\n",
      "50            Adenoma'            http://example.org/mesh/Adenoma_\n",
      "54            Alleles'            http://example.org/mesh/Alleles_\n"
     ]
    }
   ],
   "source": [
    "keywords = [\n",
    "   \"cancer\", \"tumor\", \"tumour\", \"neoplasm\", \"carcinoma\", \"sarcoma\", \"leukemia\",\n",
    "    \"lymphoma\", \"melanoma\", \"adenoma\", \"metastasis\", \"malignancy\", \"oncology\",\n",
    "    \"blastoma\", \"myeloma\", \"lymphosarcoma\", \"glioma\", \"astrocytoma\", \"retinoblastoma\",\n",
    "    \"teratoma\", \"myosarcoma\", \"fibrosarcoma\", \"mesothelioma\", \"adenocarcinoma\",\n",
    "    \"squamous cell\", \"basal cell\", \"glioblastoma\", \"neuroblastoma\", \"rhabdomyosarcoma\",\n",
    "    \"osteosarcoma\", \"chondrosarcoma\", \"angiosarcoma\", \"hepatoma\", \"hepatocellular\",\n",
    "    \"cholangiocarcinoma\", \"medulloblastoma\", \"ependymoma\", \"Wilms tumor\", \"Burkitt\",\n",
    "    \"Kaposi\", \"myelodysplastic\", \"myeloproliferative\", \"plasmacytoma\", \"thymoma\",\n",
    "    \"pheochromocytoma\", \"paraganglioma\", \"seminoma\", \"dysgerminoma\", \"yolk sac tumor\",\n",
    "    \"choriocarcinoma\", \"germ cell tumor\", \"granulosa cell tumor\", \"serous carcinoma\",\n",
    "    \"mucinous carcinoma\", \"clear cell carcinoma\", \"endometrioid carcinoma\",\n",
    "    \"small cell carcinoma\", \"large cell carcinoma\", \"anaplastic\", \"in situ\", \"metastatic\",\n",
    "    \"malignant\", \"benign tumor\", \"carcinosarcoma\", \"sarcomatoid\", \"Paget\", \"Ewing\",\n",
    "    \"Langerhans cell histiocytosis\", \"Langerhans cell sarcoma\", \"desmoid tumor\",\n",
    "    \"liposarcoma\", \"leiomyosarcoma\", \"hemangiosarcoma\", \"hemangiopericytoma\",\n",
    "    \"schwannoma\", \"neurofibroma\", \"neurofibromatosis\", \"oligodendroglioma\",\n",
    "    \"pineoblastoma\", \"pineocytoma\", \"pituitary adenoma\", \"craniopharyngioma\",\n",
    "    \"chordoma\", \"ameloblastoma\", \"odontogenic tumor\", \"myxoma\", \"cystadenoma\",\n",
    "    \"cystadenocarcinoma\", \"papilloma\", \"papillary carcinoma\", \"follicular carcinoma\",\n",
    "    \"Hurthle cell carcinoma\", \"medullary carcinoma\", \"anaplastic carcinoma\",\n",
    "    \"Merkel cell carcinoma\", \"cutaneous T-cell lymphoma\", \"cutaneous B-cell lymphoma\",\n",
    "    \"mycosis fungoides\", \"Sezary syndrome\", \"lymphoproliferative disorder\",\n",
    "    \"plasmacytoma\", \"multiple myeloma\", \"extramedullary myeloma\",\n",
    "    \"lymphomatoid granulomatosis\", \"lymphomatoid papulosis\", \"Castleman disease\",\n",
    "    \"Waldenstrom macroglobulinemia\", \"hairy cell leukemia\", \"chronic lymphocytic leukemia\",\n",
    "    \"acute lymphoblastic leukemia\", \"acute myeloid leukemia\", \"chronic myeloid leukemia\",\n",
    "    \"polycythemia vera\", \"essential thrombocythemia\", \"primary myelofibrosis\",\n",
    "    \"myeloproliferative neoplasm\", \"myelodysplastic syndrome\",\n",
    "    \"blastic plasmacytoid dendritic cell neoplasm\"\n",
    "        # Broader and related terms\n",
    "    \"neoplastic\", \"hyperplasia\", \"dysplasia\", \"precancerous\", \"preneoplastic\", \"intraepithelial neoplasia\", \"lesion\", \"mass\", \"growth\", \"nodule\", \"polyp\", \"cyst\",\n",
    "    \"hyperplastic\", \"metaplasia\", \"carcinogenesis\", \"sarcomagenesis\", \"tumor marker\", \"tumor suppressor\", \"proto-oncogene\", \"oncoprotein\", \"neoplastic syndrome\",\n",
    "    \"paraneoplastic\", \"cancerous\", \"tumorous\", \"neoplasia\", \"neoplastic process\", \"neoplastic disease\",\n",
    "\n",
    "    # Organ/location-specific cancers\n",
    "    \"breast cancer\", \"lung cancer\", \"prostate cancer\", \"colorectal cancer\", \"colon cancer\", \"rectal cancer\", \"pancreatic cancer\", \"liver cancer\", \"gastric cancer\",\n",
    "    \"stomach cancer\", \"esophageal cancer\", \"thyroid cancer\", \"ovarian cancer\", \"cervical cancer\", \"endometrial cancer\", \"uterine cancer\", \"testicular cancer\",\n",
    "    \"bladder cancer\", \"renal cancer\", \"kidney cancer\", \"skin cancer\", \"oral cancer\", \"mouth cancer\", \"head and neck cancer\", \"nasopharyngeal cancer\", \"brain cancer\",\n",
    "    \"central nervous system tumor\", \"spinal tumor\", \"eye cancer\", \"retinal cancer\", \"bone cancer\", \"soft tissue sarcoma\", \"muscle cancer\", \"adrenal cancer\",\n",
    "    \"thymic cancer\", \"lymph node cancer\", \"lymphatic cancer\", \"hematologic cancer\", \"blood cancer\", \"germ cell tumor\", \"placental tumor\", \"placental site trophoblastic tumor\",\n",
    "\n",
    "    # Common abbreviations\n",
    "    \"ALL\", \"AML\", \"CLL\", \"CML\", \"DLBCL\", \"NHL\", \"HL\", \"GBM\", \"HCC\", \"NSCLC\", \"SCLC\", \"MM\", \"MDS\", \"MPN\", \"GIST\", \"CNS\",\n",
    "\n",
    "    # Other related disease terms\n",
    "    \"leukoplakia\", \"erythroplakia\", \"actinic keratosis\", \"Bowen disease\", \"Paget disease\", \"carcinomatosis\", \"sarcomatosis\", \"lymphadenopathy\", \"paraneoplastic syndrome\",\n",
    "    \"tumor lysis syndrome\", \"tumor necrosis factor\", \"oncocytoma\", \"angioma\", \"hemangioma\", \"lymphangioma\", \"neuroendocrine tumor\", \"pheochromocytoma\", \"paraganglioma\",\n",
    "    \"schwannoma\", \"neurofibroma\", \"fibroma\", \"lipoma\", \"myoma\", \"adenofibroma\", \"cystadenoma\", \"cystadenocarcinoma\", \"papilloma\"\n",
    "]\n",
    "\n",
    "import re\n",
    "pattern = \"|\".join(keywords)\n",
    "\n",
    "disease_terms_df = mesh_df[\n",
    "    mesh_df[\"meshTerm\"].str.contains(pattern, case=False, na=False, regex=True)\n",
    "].drop_duplicates(subset=[\"meshTerm\"])\n",
    "\n",
    "print(f\"Number of unique disease-related terms: {len(disease_terms_df)}\")\n",
    "print(disease_terms_df.head())"
   ]
  },
  {
   "cell_type": "code",
   "execution_count": 68,
   "metadata": {},
   "outputs": [],
   "source": [
    "client.collections.delete(\"Article\")"
   ]
  },
  {
   "cell_type": "code",
   "execution_count": 69,
   "metadata": {
    "application/vnd.databricks.v1+cell": {
     "cellMetadata": {
      "byteLimit": 2048000,
      "rowLimit": 10000
     },
     "inputWidgets": {},
     "nuid": "90ff1b25-6c71-44f9-bfd9-2960438fb2fc",
     "showTitle": false,
     "tableResultSettingsMap": {},
     "title": ""
    }
   },
   "outputs": [],
   "source": [
    "from weaviate.classes.config import Configure\n",
    "\n",
    "\n",
    "#define the collection\n",
    "articles = client.collections.create(\n",
    "    name = \"Article\",\n",
    "    vectorizer_config=Configure.Vectorizer.text2vec_weaviate(),  # Hugging Face model  # If set to \"none\" you must always provide vectors yourself. Could be any other \"text2vec-*\" also.\n",
    "    generative_config=None  \n",
    ")"
   ]
  },
  {
   "cell_type": "code",
   "execution_count": 34,
   "metadata": {},
   "outputs": [
    {
     "name": "stdout",
     "output_type": "stream",
     "text": [
      "True\n"
     ]
    }
   ],
   "source": [
    "print(client.is_ready())"
   ]
  },
  {
   "cell_type": "code",
   "execution_count": 35,
   "metadata": {},
   "outputs": [
    {
     "name": "stdout",
     "output_type": "stream",
     "text": [
      "{'Article': _CollectionConfigSimple(name='Article', description=None, generative_config=None, properties=[_Property(name='meshMajor', description=\"This property was generated by Weaviate's auto-schema feature on Wed Jul 16 12:51:05 2025\", data_type=<DataType.TEXT: 'text'>, index_filterable=True, index_range_filters=False, index_searchable=True, nested_properties=None, tokenization=<Tokenization.WORD: 'word'>, vectorizer_config=_PropertyVectorizerConfig(skip=False, vectorize_property_name=False), vectorizer='text2vec-huggingface', vectorizer_configs=None), _Property(name='title', description=\"This property was generated by Weaviate's auto-schema feature on Wed Jul 16 12:51:05 2025\", data_type=<DataType.TEXT: 'text'>, index_filterable=True, index_range_filters=False, index_searchable=True, nested_properties=None, tokenization=<Tokenization.WORD: 'word'>, vectorizer_config=_PropertyVectorizerConfig(skip=False, vectorize_property_name=False), vectorizer='text2vec-huggingface', vectorizer_configs=None), _Property(name='abstractText', description=\"This property was generated by Weaviate's auto-schema feature on Wed Jul 16 12:51:05 2025\", data_type=<DataType.TEXT: 'text'>, index_filterable=True, index_range_filters=False, index_searchable=True, nested_properties=None, tokenization=<Tokenization.WORD: 'word'>, vectorizer_config=_PropertyVectorizerConfig(skip=False, vectorize_property_name=False), vectorizer='text2vec-huggingface', vectorizer_configs=None), _Property(name='article_URI', description=\"This property was generated by Weaviate's auto-schema feature on Wed Jul 16 12:51:05 2025\", data_type=<DataType.TEXT: 'text'>, index_filterable=True, index_range_filters=False, index_searchable=True, nested_properties=None, tokenization=<Tokenization.WORD: 'word'>, vectorizer_config=_PropertyVectorizerConfig(skip=False, vectorize_property_name=False), vectorizer='text2vec-huggingface', vectorizer_configs=None)], references=[], reranker_config=None, vectorizer_config=_VectorizerConfig(vectorizer=<Vectorizers.TEXT2VEC_HUGGINGFACE: 'text2vec-huggingface'>, model={'model': 'sentence-transformers/msmarco-bert-base-dot-v5', 'useCache': True, 'useGPU': False, 'waitForModel': False}, vectorize_collection_name=True), vectorizer=<Vectorizers.TEXT2VEC_HUGGINGFACE: 'text2vec-huggingface'>, vector_config=None)}\n"
     ]
    }
   ],
   "source": [
    "    print(client.collections.list_all())"
   ]
  },
  {
   "cell_type": "code",
   "execution_count": 20,
   "metadata": {},
   "outputs": [
    {
     "data": {
      "text/plain": [
       "UUID('776f6e33-8af3-4ffb-8efc-66b1eba9b51d')"
      ]
     },
     "execution_count": 20,
     "metadata": {},
     "output_type": "execute_result"
    }
   ],
   "source": [
    "     articles = client.collections.get(\"Article\")\n",
    "     articles.data.insert(\n",
    "         properties={\n",
    "             \"title\": \"Test Title\",\n",
    "             \"abstractText\": \"Test Abstract\",\n",
    "             \"Article_URI\": \"http://example.org/article/test\",\n",
    "             \"meshMajor\": \"Test Mesh\"\n",
    "         }\n",
    "     )"
   ]
  },
  {
   "cell_type": "code",
   "execution_count": 14,
   "metadata": {},
   "outputs": [
    {
     "data": {
      "text/plain": [
       "UUID('b7fdad01-32a4-4aef-9b63-5c98ef587f67')"
      ]
     },
     "execution_count": 14,
     "metadata": {},
     "output_type": "execute_result"
    }
   ],
   "source": [
    "terms = client.collections.get(\"term\")\n",
    "terms.data.insert(\n",
    "    properties={\n",
    "        \"meshTerm\": \"Test Term\",\n",
    "        \"URI\": \"http://example.org/mesh/test_term\"\n",
    "    }\n",
    ")"
   ]
  },
  {
   "cell_type": "code",
   "execution_count": 51,
   "metadata": {
    "application/vnd.databricks.v1+cell": {
     "cellMetadata": {
      "byteLimit": 2048000,
      "rowLimit": 10000
     },
     "inputWidgets": {},
     "nuid": "0877d230-6ae5-4564-90a6-9fa71a8629ab",
     "showTitle": false,
     "tableResultSettingsMap": {},
     "title": ""
    }
   },
   "outputs": [],
   "source": [
    "#define the collection\n",
    "terms = client.collections.create(\n",
    "    name = \"term\",\n",
    "    vectorizer_config=Configure.Vectorizer.text2vec_weaviate(),  # If set to \"none\" you must always provide vectors yourself. Could be any other \"text2vec-*\" also.\n",
    "    generative_config=None  \n",
    ")"
   ]
  },
  {
   "cell_type": "code",
   "execution_count": null,
   "metadata": {},
   "outputs": [],
   "source": [
    "existing_terms = set()\n",
    "batch_size = 100\n",
    "offset = 0\n",
    "\n",
    "while True:\n",
    "    # Query a batch of objects\n",
    "    results = terms.query.fetch_objects(\n",
    "        limit=batch_size,\n",
    "        offset=offset,\n",
    "        return_properties=[\"meshTerm\"]\n",
    "    )\n",
    "    if not results.objects:\n",
    "        break\n",
    "    for obj in results.objects:\n",
    "        existing_terms.add(obj.properties[\"meshTerm\"])\n",
    "    offset += batch_size"
   ]
  },
  {
   "cell_type": "code",
   "execution_count": 17,
   "metadata": {},
   "outputs": [],
   "source": [
    "import time\n",
    "\n",
    "for _, row in disease_terms_df.iterrows():\n",
    "    mesh_term = str(row[\"meshTerm\"])\n",
    "    if mesh_term in existing_terms:\n",
    "        continue  # Skip already imported\n",
    "    terms.data.insert(\n",
    "        properties={\n",
    "            \"meshTerm\": mesh_term,\n",
    "            \"URI\": str(row[\"URI\"]),\n",
    "        }\n",
    "    )\n",
    "    time.sleep(0.1)  # 100ms delay between inserts"
   ]
  },
  {
   "cell_type": "code",
   "execution_count": 18,
   "metadata": {
    "application/vnd.databricks.v1+cell": {
     "cellMetadata": {
      "byteLimit": 2048000,
      "rowLimit": 10000
     },
     "inputWidgets": {},
     "nuid": "4e094ef7-270c-4e9d-b7df-54285ac8daff",
     "showTitle": false,
     "tableResultSettingsMap": {},
     "title": ""
    }
   },
   "outputs": [
    {
     "name": "stdout",
     "output_type": "stream",
     "text": [
      "UUID: 7e269644-f751-4888-b926-c94b4ddc8d26\n",
      "{'meshTerm': \"'Mouth_Neoplasms'\", 'uRI': 'http://example.org/mesh/_Mouth_Neoplasms_'}\n",
      "0.6161625385284424\n",
      "UUID: cc6123ab-b3aa-4f2b-86a8-4d78f540d6a6\n",
      "{'meshTerm': \"'Tongue_Neoplasms\", 'uRI': 'http://example.org/mesh/_Tongue_Neoplasms'}\n",
      "0.6701860427856445\n",
      "UUID: 69761bb9-a52b-4dbb-8c00-a6b47def8391\n",
      "{'meshTerm': 'Adenocarcinoma', 'uRI': 'http://example.org/mesh/Adenocarcinoma'}\n",
      "0.7214798331260681\n",
      "UUID: f8543051-ff27-47a5-b894-64b9546ce05f\n",
      "{'uRI': 'http://example.org/mesh/Adenocarcinoma_', 'meshTerm': \"Adenocarcinoma'\"}\n",
      "0.722684919834137\n",
      "UUID: 8c9fb117-577c-4c09-ba05-75af226f59a4\n",
      "{'meshTerm': \"'Esophageal_Squamous_Cell_Carcinoma'\", 'uRI': 'http://example.org/mesh/_Esophageal_Squamous_Cell_Carcinoma_'}\n",
      "0.7333685159683228\n",
      "UUID: 621ea70d-f5ee-4dc8-b3be-e7ea72e5e73b\n",
      "{'meshTerm': \"'Submandibular_Gland_Neoplasms\", 'uRI': 'http://example.org/mesh/_Submandibular_Gland_Neoplasms'}\n",
      "0.7388957142829895\n",
      "UUID: ee2d1c01-7c85-46f8-ab65-522e4adcd17a\n",
      "{'meshTerm': \"Adenocarcinoma_of_Lung'\", 'uRI': 'http://example.org/mesh/Adenocarcinoma_of_Lung_'}\n",
      "0.7427682876586914\n",
      "UUID: 33490b6e-aa47-46e6-9b83-13b8c98784c1\n",
      "{'meshTerm': 'Carcinoma', 'uRI': 'http://example.org/mesh/Carcinoma'}\n",
      "0.7473495006561279\n",
      "UUID: 71b3ac74-782a-4c45-8186-80eaf2607edc\n",
      "{'meshTerm': \"'Carcinoma\", 'uRI': 'http://example.org/mesh/_Carcinoma'}\n",
      "0.7507457733154297\n",
      "UUID: 03183e5c-9544-42ea-b6e8-8b0ef19fcda8\n",
      "{'meshTerm': \"'Carcinoma'\", 'uRI': 'http://example.org/mesh/_Carcinoma_'}\n",
      "0.7529130578041077\n"
     ]
    }
   ],
   "source": [
    "#Check that it works\n",
    "from weaviate.classes.query import MetadataQuery\n",
    "\n",
    "response = terms.query.near_text(\n",
    "    query=\"mouth cancer\",\n",
    "    limit=10,\n",
    "    return_metadata=MetadataQuery(distance=True)\n",
    ")\n",
    "\n",
    "for o in response.objects:\n",
    "    print(f\"UUID: {o.uuid}\")\n",
    "    print(o.properties)\n",
    "    print(o.metadata.distance)\n"
   ]
  },
  {
   "cell_type": "code",
   "execution_count": 21,
   "metadata": {
    "application/vnd.databricks.v1+cell": {
     "cellMetadata": {
      "byteLimit": 2048000,
      "rowLimit": 10000
     },
     "inputWidgets": {},
     "nuid": "4b469cc5-35c3-4b49-88dd-f00e83135959",
     "showTitle": false,
     "tableResultSettingsMap": {},
     "title": ""
    }
   },
   "outputs": [
    {
     "name": "stdout",
     "output_type": "stream",
     "text": [
      "UUID: 0fe9b9cc-83bf-4076-9a43-ce5eaf3caefc\n",
      "{'meshMajor': \"['Antineoplastic Agents', 'Apoptosis', 'Autophagy', 'Carcinoma, Squamous Cell', 'Cell Cycle Checkpoints', 'Cell Line, Tumor', 'Cell Proliferation', 'Cell Survival', 'Humans', 'I-kappa B Kinase', 'Mitosis', 'Mouth Neoplasms', 'Phosphoproteins', 'Protein-Serine-Threonine Kinases', 'Proto-Oncogene Proteins c-akt', 'Pyrimidines', 'Signal Transduction', 'Thiophenes']\", 'abstractText': 'TANK-binding kinase 1 (TBK1), a member of IêB Kinase (IKK)-related kinases, plays a role in regulating innate immunity, inflammation and oncogenic signaling. This study aims to investigate the role of BX795, an inhibitor of TBK1, in a panel of oral squamous cell carcinoma (OSCC) cell lines. The antitumor effects and mechanisms of BX795 were assessed by MTT assays, flow cytometry, Western blotting, and confocal microscopy. BX795 exhibited a dose-responsive antiproliferative effect on OSCC cells with relative sparing of normal human oral keratinocytes. The compound caused apoptosis as evidenced by PARP cleavage, the presence of pyknotic nuclei in the TUNEL assay, and fragmented DNA tails in the Comet assay. BX795 inhibits Akt and NF-êB signaling, arrests cells in the mitotic phase, and increases generation of autophagy in oral cancer cells. Interestingly, the antiproliferative activity of BX795 does not correlate with TBK1 protein expression level in OSCC cells. We propose that the TBK1-independet effect is related to mitotic phase arrest. Pleiotropic anticancer activity with relative sparing of normal oral keratinocytes underscores the potential value of BX795 and warrants its further study in oral squamous cell carcinoma therapy.', 'article_URI': 'http://example.org/article/BX795%2C_a_TBK1_inhibitor%2C_exhibits_antitumor_activity_in_human_oral_squamous_cell_carcinoma_through_apoptosis_induction_and_mitotic_phase_arrest.', 'title': 'BX795, a TBK1 inhibitor, exhibits antitumor activity in human oral squamous cell carcinoma through apoptosis induction and mitotic phase arrest.'}\n",
      "0.6165108680725098\n",
      "UUID: 02e11805-fd27-4c55-805a-c6ebff28941f\n",
      "{'meshMajor': \"['Histiocytoma, Benign Fibrous', 'Humans', 'Male', 'Middle Aged', 'Pharyngeal Neoplasms', 'Tomography, X-Ray Computed']\", 'abstractText': 'Malignant fibrous histiocytoma (MFH) is the most common soft-tissue sarcoma of late adult life, but is relatively uncommon in the head and neck region. That region has been reported to be the origin of malignant fibrous histiocytoma in 3-10% of cases. Only one case of the tumor occurring in the pharynx has been reported. Histologically it is sometimes hard to distinguish this tumor from some sarcomas and pleomorphic carcinomas. The treatment of choice is a large surgical resection, while radiotherapy and chemotherapy are reserved for recurrences. The authors present a case of oropharyngeal malignant fibrous histiocytoma. The patient complained dysphagia and dyslalia progressively worsening in six months. Pharyngo-laryngoscopy revealed a mass of the left lateral wall of oro and hypopharynx. CT scan examination showed a capsuled mass which displaced but not involved the neck neurovascular structures; there was no evidence of linphonodal involvement. Transoral surgical excision of the mass was performed with the preservation of speech and swallowing. For more than 1 year postoperatively, there has been no evidence of the disease or metastasis.', 'article_URI': 'http://example.org/article/Malignant_fibrous_histiocytoma_of_the_pharynx.', 'title': 'Malignant fibrous histiocytoma of the pharynx.'}\n",
      "0.6370857954025269\n"
     ]
    }
   ],
   "source": [
    "#Check that it works\n",
    "response = articles.query.near_text(\n",
    "    query=\"mouth cancer\",\n",
    "    limit=2,\n",
    "    return_metadata=MetadataQuery(distance=True)\n",
    ")\n",
    "\n",
    "for o in response.objects:\n",
    "    print(f\"UUID: {o.uuid}\")\n",
    "    print(o.properties)\n",
    "    print(o.metadata.distance)\n"
   ]
  },
  {
   "cell_type": "code",
   "execution_count": 22,
   "metadata": {
    "application/vnd.databricks.v1+cell": {
     "cellMetadata": {
      "byteLimit": 2048000,
      "rowLimit": 10000
     },
     "inputWidgets": {},
     "nuid": "87bd07f8-095b-4ec6-9c5b-9d87d1d11687",
     "showTitle": false,
     "tableResultSettingsMap": {},
     "title": ""
    }
   },
   "outputs": [
    {
     "name": "stdout",
     "output_type": "stream",
     "text": [
      "1989\n"
     ]
    }
   ],
   "source": [
    "aggregation = articles.aggregate.over_all(total_count=True)\n",
    "print(aggregation.total_count)"
   ]
  },
  {
   "cell_type": "code",
   "execution_count": 24,
   "metadata": {
    "application/vnd.databricks.v1+cell": {
     "cellMetadata": {
      "byteLimit": 2048000,
      "rowLimit": 10000
     },
     "inputWidgets": {},
     "nuid": "22285a94-badb-429e-a71c-826e0e731293",
     "showTitle": false,
     "tableResultSettingsMap": {},
     "title": ""
    }
   },
   "outputs": [
    {
     "name": "stdout",
     "output_type": "stream",
     "text": [
      "{'meshMajor': \"['Antineoplastic Agents', 'Apoptosis', 'Autophagy', 'Carcinoma, Squamous Cell', 'Cell Cycle Checkpoints', 'Cell Line, Tumor', 'Cell Proliferation', 'Cell Survival', 'Humans', 'I-kappa B Kinase', 'Mitosis', 'Mouth Neoplasms', 'Phosphoproteins', 'Protein-Serine-Threonine Kinases', 'Proto-Oncogene Proteins c-akt', 'Pyrimidines', 'Signal Transduction', 'Thiophenes']\", 'abstractText': 'TANK-binding kinase 1 (TBK1), a member of IêB Kinase (IKK)-related kinases, plays a role in regulating innate immunity, inflammation and oncogenic signaling. This study aims to investigate the role of BX795, an inhibitor of TBK1, in a panel of oral squamous cell carcinoma (OSCC) cell lines. The antitumor effects and mechanisms of BX795 were assessed by MTT assays, flow cytometry, Western blotting, and confocal microscopy. BX795 exhibited a dose-responsive antiproliferative effect on OSCC cells with relative sparing of normal human oral keratinocytes. The compound caused apoptosis as evidenced by PARP cleavage, the presence of pyknotic nuclei in the TUNEL assay, and fragmented DNA tails in the Comet assay. BX795 inhibits Akt and NF-êB signaling, arrests cells in the mitotic phase, and increases generation of autophagy in oral cancer cells. Interestingly, the antiproliferative activity of BX795 does not correlate with TBK1 protein expression level in OSCC cells. We propose that the TBK1-independet effect is related to mitotic phase arrest. Pleiotropic anticancer activity with relative sparing of normal oral keratinocytes underscores the potential value of BX795 and warrants its further study in oral squamous cell carcinoma therapy.', 'article_URI': 'http://example.org/article/BX795%2C_a_TBK1_inhibitor%2C_exhibits_antitumor_activity_in_human_oral_squamous_cell_carcinoma_through_apoptosis_induction_and_mitotic_phase_arrest.', 'title': 'BX795, a TBK1 inhibitor, exhibits antitumor activity in human oral squamous cell carcinoma through apoptosis induction and mitotic phase arrest.'}\n",
      "2.384185791015625e-07\n",
      "{'meshMajor': \"['Amino Acid Sequence', 'Animals', 'Artemia', 'Aurora Kinases', 'Base Sequence', 'Blotting, Western', 'Cell Cycle Checkpoints', 'Cell Cycle Proteins', 'Extracellular Signal-Regulated MAP Kinases', 'Gene Expression Regulation, Developmental', 'Gene Expression Regulation, Enzymologic', 'HeLa Cells', 'Humans', 'Mitogen-Activated Protein Kinases', 'Mitosis', 'Molecular Sequence Data', 'Phosphorylation', 'Protein-Serine-Threonine Kinases', 'Proto-Oncogene Proteins', 'RNA Interference', 'Reverse Transcriptase Polymerase Chain Reaction', 'Ribosomal Protein S6 Kinases, 90-kDa', 'Sequence Homology, Amino Acid', 'Signal Transduction']\", 'abstractText': 'Cell division is controlled through cooperation of different kinases. Of these, polo-like kinase 1 (Plk1) and p90 ribosomal S6 kinase 1 (RSK1) play key roles. Plk1 acts as a G(2)/M trigger, and RSK1 promotes G(1) progression. Although previous reports show that Plk1 is suppressed by RSK1 during meiosis in Xenopus oocytes, it is still not clear whether this is the case during mitosis or whether Plk1 counteracts the effects of RSK1. Few animal models are available for the study of controlled and transient cell cycle arrest. Here we show that encysted embryos (cysts) of the primitive crustacean Artemia are ideal for such research because they undergo complete cell cycle arrest when they enter diapause (a state of obligate dormancy). We found that Plk1 suppressed the activity of RSK1 during embryonic mitosis and that Plk1 was inhibited during embryonic diapause and mitotic arrest. In addition, studies on HeLa cells using Plk1 siRNA interference and overexpression showed that phosphorylation of RSK1 increased upon interference and decreased after overexpression, suggesting that Plk1 inhibits RSK1. Taken together, these findings provide insights into the regulation of Plk1 during cell division and Artemia diapause cyst formation and the correlation between the activity of Plk1 and RSK1.', 'article_URI': 'http://example.org/article/Involvement_of_polo-like_kinase_1_%28Plk1%29_in_mitotic_arrest_by_inhibition_of_mitogen-activated_protein_kinase-extracellular_signal-regulated_kinase-ribosomal_S6_kinase_1_%28MEK-ERK-RSK1%29_cascade.', 'title': 'Involvement of polo-like kinase 1 (Plk1) in mitotic arrest by inhibition of mitogen-activated protein kinase-extracellular signal-regulated kinase-ribosomal S6 kinase 1 (MEK-ERK-RSK1) cascade.'}\n",
      "0.4362090229988098\n"
     ]
    }
   ],
   "source": [
    "#Check that similarity works\n",
    "response = articles.query.near_object(\n",
    "    near_object=\"0fe9b9cc-83bf-4076-9a43-ce5eaf3caefc\",  # A UUID of an object (e.g. \"56b9449e-65db-5df4-887b-0a4773f52aa7\")\n",
    "    limit=2,\n",
    "    return_metadata=MetadataQuery(distance=True)\n",
    ")\n",
    "\n",
    "for o in response.objects:\n",
    "    print(o.properties)\n",
    "    print(o.metadata.distance)"
   ]
  },
  {
   "cell_type": "markdown",
   "metadata": {
    "application/vnd.databricks.v1+cell": {
     "cellMetadata": {},
     "inputWidgets": {},
     "nuid": "1f2cc22e-d395-481a-bd3a-9815c9123884",
     "showTitle": false,
     "tableResultSettingsMap": {},
     "title": ""
    }
   },
   "source": [
    "### Knowledge Graph\n"
   ]
  },
  {
   "cell_type": "code",
   "execution_count": 27,
   "metadata": {
    "application/vnd.databricks.v1+cell": {
     "cellMetadata": {
      "byteLimit": 2048000,
      "rowLimit": 10000
     },
     "inputWidgets": {},
     "nuid": "b7802528-848c-42e0-b0ee-f2060fe6fdba",
     "showTitle": false,
     "tableResultSettingsMap": {},
     "title": ""
    }
   },
   "outputs": [
    {
     "data": {
      "text/plain": [
       "<Graph identifier=N30cceac156784a82b7ae320f3d617d39 (<class 'rdflib.graph.Graph'>)>"
      ]
     },
     "execution_count": 27,
     "metadata": {},
     "output_type": "execute_result"
    }
   ],
   "source": [
    "from rdflib import Graph, RDF, RDFS, Namespace, URIRef, Literal\n",
    "from rdflib.namespace import SKOS, XSD\n",
    "import pandas as pd\n",
    "import urllib.parse\n",
    "import random\n",
    "from datetime import datetime, timedelta\n",
    "import re\n",
    "from urllib.parse import quote\n",
    "\n",
    "# --- Initialization ---\n",
    "g = Graph()\n",
    "\n",
    "# Define namespaces\n",
    "schema = Namespace('http://schema.org/')\n",
    "ex = Namespace('http://example.org/')\n",
    "prefixes = {\n",
    "    'schema': schema,\n",
    "    'ex': ex,\n",
    "    'skos': SKOS,\n",
    "    'xsd': XSD\n",
    "}\n",
    "for p, ns in prefixes.items():\n",
    "    g.bind(p, ns)\n",
    "\n",
    "# Define classes and properties\n",
    "Article = URIRef(ex.Article)\n",
    "MeSHTerm = URIRef(ex.MeSHTerm)\n",
    "g.add((Article, RDF.type, RDFS.Class))\n",
    "g.add((MeSHTerm, RDF.type, RDFS.Class))\n",
    "\n",
    "title = URIRef(schema.name)\n",
    "abstract = URIRef(schema.description)\n",
    "date_published = URIRef(schema.datePublished)\n",
    "access = URIRef(ex.access)\n",
    "\n",
    "g.add((title, RDF.type, RDF.Property))\n",
    "g.add((abstract, RDF.type, RDF.Property))\n",
    "g.add((date_published, RDF.type, RDF.Property))\n",
    "g.add((access, RDF.type, RDF.Property))\n",
    "\n",
    "# Function to clean and parse MeSH terms\n",
    "def parse_mesh_terms(mesh_list):\n",
    "    if pd.isna(mesh_list):\n",
    "        return []\n",
    "    return [term.strip() for term in mesh_list.strip(\"[]'\").split(',')]\n",
    "\n",
    "# Enhanced convert_to_uri function\n",
    "def convert_to_uri(term, base_namespace=\"http://example.org/mesh/\"):\n",
    "    if pd.isna(term):\n",
    "        return None  # Handle NaN or None terms gracefully\n",
    "    \n",
    "    # Step 1: Strip existing leading and trailing non-word characters (including underscores)\n",
    "    stripped_term = re.sub(r'^\\W+|\\W+$', '', term)\n",
    "    \n",
    "    # Step 2: Replace non-word characters with underscores (one or more)\n",
    "    formatted_term = re.sub(r'\\W+', '_', stripped_term)\n",
    "    \n",
    "    # Step 3: Replace multiple consecutive underscores with a single underscore\n",
    "    formatted_term = re.sub(r'_+', '_', formatted_term)\n",
    "    \n",
    "    # Step 4: URL-encode the term to handle any remaining special characters\n",
    "    encoded_term = quote(formatted_term)\n",
    "    \n",
    "    # Step 5: Add single leading and trailing underscores\n",
    "    term_with_underscores = f\"_{encoded_term}_\"\n",
    "    \n",
    "    # Step 6: Concatenate with base_namespace without adding an extra underscore\n",
    "    uri = f\"{base_namespace}{term_with_underscores}\"\n",
    "\n",
    "    return URIRef(uri)\n",
    "\n",
    "# Function to generate a random date within the last 5 years\n",
    "def generate_random_date():\n",
    "    start_date = datetime.now() - timedelta(days=5*365)\n",
    "    random_days = random.randint(0, 5*365)\n",
    "    return start_date + timedelta(days=random_days)\n",
    "\n",
    "# Function to generate a random access value between 1 and 10\n",
    "def generate_random_access():\n",
    "    return random.randint(1, 10)\n",
    "\n",
    "# Function to create a valid URI for Articles\n",
    "def create_article_uri(title, base_namespace=\"http://example.org/article\"):\n",
    "    if pd.isna(title):\n",
    "        return None\n",
    "    # Encode text to be used in URI\n",
    "    sanitized_text = urllib.parse.quote(title.strip().replace(' ', '_').replace('\"', '').replace('<', '').replace('>', '').replace(\"'\", \"_\"))\n",
    "    return URIRef(f\"{base_namespace}/{sanitized_text}\")\n",
    "\n",
    "# Loop through each row in the DataFrame and create RDF triples\n",
    "for index, row in df.iterrows():\n",
    "    article_uri = create_article_uri(row['Title'])\n",
    "    if article_uri is None:\n",
    "        continue\n",
    "    \n",
    "    # Add Article instance\n",
    "    g.add((article_uri, RDF.type, Article))\n",
    "    g.add((article_uri, title, Literal(row['Title'], datatype=XSD.string)))\n",
    "    g.add((article_uri, abstract, Literal(row['abstractText'], datatype=XSD.string)))\n",
    "    \n",
    "    # Add random datePublished and access\n",
    "    random_date = generate_random_date()\n",
    "    random_access = generate_random_access()\n",
    "    g.add((article_uri, date_published, Literal(random_date.date(), datatype=XSD.date)))\n",
    "    g.add((article_uri, access, Literal(random_access, datatype=XSD.integer)))\n",
    "    \n",
    "    # Add MeSH Terms\n",
    "    mesh_terms = parse_mesh_terms(row['meshMajor'])\n",
    "    for term in mesh_terms:\n",
    "        term_uri = convert_to_uri(term, base_namespace=\"http://example.org/mesh/\")\n",
    "        if term_uri is None:\n",
    "            continue\n",
    "        \n",
    "        # Add MeSH Term instance\n",
    "        g.add((term_uri, RDF.type, MeSHTerm))\n",
    "        g.add((term_uri, RDFS.label, Literal(term.replace('_', ' '), datatype=XSD.string)))\n",
    "        \n",
    "        # Link Article to MeSH Term\n",
    "        g.add((article_uri, schema.about, term_uri))\n",
    "\n",
    "# Serialize the graph to a file (optional)\n",
    "g.serialize(destination='PubMedGraph.ttl', format='turtle')\n"
   ]
  },
  {
   "cell_type": "code",
   "execution_count": null,
   "metadata": {},
   "outputs": [],
   "source": [
    "import os\n",
    "\n",
    "# Get the Desktop path\n",
    "desktop = os.path.join(os.path.expanduser(\"~\"), \"Desktop\")\n",
    "file_path = os.path.join(desktop, \"PubMedGraph.ttl\")\n",
    "\n",
    "# Ensure the directory exists (usually not needed for Desktop, but good practice)\n",
    "os.makedirs(os.path.dirname(file_path), exist_ok=True)\n",
    "\n",
    "# Save the graph\n",
    "g.serialize(destination=file_path, format='turtle')\n",
    "\n",
    "print(f\"File saved at {file_path}\")"
   ]
  }
 ],
 "metadata": {
  "application/vnd.databricks.v1+notebook": {
   "computePreferences": {
    "hardware": {
     "accelerator": null,
     "gpuPoolId": null,
     "memory": null
    }
   },
   "dashboards": [],
   "environmentMetadata": {
    "base_environment": "",
    "client": "1"
   },
   "language": "python",
   "notebookMetadata": {
    "pythonIndentUnit": 4
   },
   "notebookName": "VectorVsKG_updated",
   "widgets": {}
  },
  "kernelspec": {
   "display_name": "Python 3",
   "language": "python",
   "name": "python3"
  },
  "language_info": {
   "codemirror_mode": {
    "name": "ipython",
    "version": 3
   },
   "file_extension": ".py",
   "mimetype": "text/x-python",
   "name": "python",
   "nbconvert_exporter": "python",
   "pygments_lexer": "ipython3",
   "version": "3.11.8"
  }
 },
 "nbformat": 4,
 "nbformat_minor": 0
}
